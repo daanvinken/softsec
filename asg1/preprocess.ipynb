{
 "cells": [
  {
   "cell_type": "code",
   "execution_count": 14,
   "metadata": {},
   "outputs": [
    {
     "data": {
      "text/html": "<div>\n<style scoped>\n    .dataframe tbody tr th:only-of-type {\n        vertical-align: middle;\n    }\n\n    .dataframe tbody tr th {\n        vertical-align: top;\n    }\n\n    .dataframe thead th {\n        text-align: right;\n    }\n</style>\n<table border=\"1\" class=\"dataframe\">\n  <thead>\n    <tr style=\"text-align: right;\">\n      <th></th>\n      <th>3</th>\n    </tr>\n  </thead>\n  <tbody>\n    <tr>\n      <th>0</th>\n      <td>123456</td>\n    </tr>\n    <tr>\n      <th>1</th>\n      <td>password</td>\n    </tr>\n    <tr>\n      <th>2</th>\n      <td>phpbb</td>\n    </tr>\n    <tr>\n      <th>3</th>\n      <td>qwerty</td>\n    </tr>\n    <tr>\n      <th>4</th>\n      <td>12345</td>\n    </tr>\n    <tr>\n      <th>...</th>\n      <td>...</td>\n    </tr>\n    <tr>\n      <th>245</th>\n      <td>kitten</td>\n    </tr>\n    <tr>\n      <th>246</th>\n      <td>cassie</td>\n    </tr>\n    <tr>\n      <th>247</th>\n      <td>stella</td>\n    </tr>\n    <tr>\n      <th>248</th>\n      <td>prayer</td>\n    </tr>\n    <tr>\n      <th>249</th>\n      <td>hotdog</td>\n    </tr>\n  </tbody>\n</table>\n<p>250 rows × 1 columns</p>\n</div>",
      "text/plain": "            3\n0      123456\n1    password\n2       phpbb\n3      qwerty\n4       12345\n..        ...\n245    kitten\n246    cassie\n247    stella\n248    prayer\n249    hotdog\n\n[250 rows x 1 columns]"
     },
     "execution_count": 14,
     "metadata": {},
     "output_type": "execute_result"
    }
   ],
   "source": [
    "import pandas as pd\n",
    "\n",
    "df = pd.read_csv(\"dictionary/top250.txt\", header=None, delimiter=\"\\t\")\n",
    "df = df.iloc[:,-1:]\n",
    "df.to_csv(\"dictionary/clean_top250.txt\", header=False, index=False)\n",
    "df"
   ]
  }
 ],
 "metadata": {
  "kernelspec": {
   "display_name": "Python 3.9.5 64-bit",
   "name": "python395jvsc74a57bd031f2aee4e71d21fbe5cf8b01ff0e069b9275f58929596ceb00d14d90e3e16cd6"
  },
  "language_info": {
   "codemirror_mode": {
    "name": "ipython",
    "version": 3
   },
   "file_extension": ".py",
   "mimetype": "text/x-python",
   "name": "python",
   "nbconvert_exporter": "python",
   "pygments_lexer": "ipython3",
   "version": "3.9.5"
  },
  "metadata": {
   "interpreter": {
    "hash": "31f2aee4e71d21fbe5cf8b01ff0e069b9275f58929596ceb00d14d90e3e16cd6"
   }
  },
  "orig_nbformat": 2
 },
 "nbformat": 4,
 "nbformat_minor": 2
}